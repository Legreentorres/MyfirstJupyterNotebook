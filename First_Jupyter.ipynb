{
 "cells": [
  {
   "cell_type": "code",
   "execution_count": null,
   "id": "4e189ac1",
   "metadata": {},
   "outputs": [],
   "source": [
    "print(\"Hello world from Jupyter!\")"
   ]
  },
  {
   "cell_type": "code",
   "execution_count": null,
   "id": "81295811",
   "metadata": {},
   "outputs": [],
   "source": [
    "import time \n",
    "time.sleep(4)"
   ]
  },
  {
   "cell_type": "code",
   "execution_count": null,
   "id": "56353231",
   "metadata": {},
   "outputs": [],
   "source": [
    "def say_hello(name):\n",
    "    return 'Hello, {}'.format(name)"
   ]
  },
  {
   "cell_type": "code",
   "execution_count": null,
   "id": "eaf16111",
   "metadata": {},
   "outputs": [],
   "source": [
    "say_hello('Luis')\n"
   ]
  },
  {
   "cell_type": "code",
   "execution_count": null,
   "id": "0b22ea10",
   "metadata": {},
   "outputs": [],
   "source": [
    "num1 = 10\n",
    "num2 = 7"
   ]
  },
  {
   "cell_type": "code",
   "execution_count": null,
   "id": "c612e180",
   "metadata": {},
   "outputs": [],
   "source": [
    "x=num1-num2\n",
    "print(x)"
   ]
  },
  {
   "cell_type": "markdown",
   "id": "22dfb828",
   "metadata": {},
   "source": [
    "# This is heading 1 \n",
    "## This is heading 2 \n",
    "**This is bold text** __This is bold text too__\n",
    "*This is for italic* _This is for italic_\n",
    "You can also create lists:\n",
    "* item 1 in bullets\n",
    "* item 2 in bullets \n",
    "you can also ceate numbered lists\n",
    "1. item 1 in numeric list\n",
    "2. item 2 in numeric list \n",
    "\n",
    "[this is a link to tlu webpage] http://www.tlu.com"
   ]
  },
  {
   "cell_type": "code",
   "execution_count": null,
   "id": "04748379",
   "metadata": {},
   "outputs": [],
   "source": [
    "import numpy as np\n",
    "def square(x):\n",
    "    return x*x"
   ]
  },
  {
   "cell_type": "code",
   "execution_count": null,
   "id": "3ae07a0e",
   "metadata": {},
   "outputs": [],
   "source": [
    "x = np.random.randint(1,10)\n",
    "y = square(x)\n",
    "print('%d squared is: %d' % (x,y))"
   ]
  },
  {
   "cell_type": "code",
   "execution_count": null,
   "id": "58c372e9",
   "metadata": {},
   "outputs": [],
   "source": []
  }
 ],
 "metadata": {
  "kernelspec": {
   "display_name": "Python 3 (ipykernel)",
   "language": "python",
   "name": "python3"
  },
  "language_info": {
   "codemirror_mode": {
    "name": "ipython",
    "version": 3
   },
   "file_extension": ".py",
   "mimetype": "text/x-python",
   "name": "python",
   "nbconvert_exporter": "python",
   "pygments_lexer": "ipython3",
   "version": "3.9.7"
  }
 },
 "nbformat": 4,
 "nbformat_minor": 5
}
